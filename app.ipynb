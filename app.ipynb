{
 "cells": [
  {
   "cell_type": "code",
   "execution_count": 192,
   "metadata": {},
   "outputs": [
    {
     "name": "stdout",
     "output_type": "stream",
     "text": [
      "Requirement already satisfied: easyocr in /home/meghal/.local/lib/python3.8/site-packages (1.5.0)\n",
      "Requirement already satisfied: torch in /home/meghal/.local/lib/python3.8/site-packages (from easyocr) (1.7.0+cpu)\n",
      "Requirement already satisfied: Pillow in /home/meghal/.local/lib/python3.8/site-packages (from easyocr) (9.2.0)\n",
      "Requirement already satisfied: PyYAML in /usr/lib/python3/dist-packages (from easyocr) (5.3.1)\n",
      "Requirement already satisfied: opencv-python-headless<=4.5.4.60 in /home/meghal/.local/lib/python3.8/site-packages (from easyocr) (4.5.4.60)\n",
      "Requirement already satisfied: scikit-image in /home/meghal/.local/lib/python3.8/site-packages (from easyocr) (0.19.3)\n",
      "Requirement already satisfied: python-bidi in /home/meghal/.local/lib/python3.8/site-packages (from easyocr) (0.4.2)\n",
      "Requirement already satisfied: scipy in /home/meghal/.local/lib/python3.8/site-packages (from easyocr) (1.8.0)\n",
      "Requirement already satisfied: torchvision>=0.5 in /home/meghal/.local/lib/python3.8/site-packages (from easyocr) (0.8.1+cpu)\n",
      "Requirement already satisfied: numpy in /home/meghal/.local/lib/python3.8/site-packages (from easyocr) (1.22.3)\n",
      "Requirement already satisfied: future in /usr/lib/python3/dist-packages (from torch->easyocr) (0.18.2)\n",
      "Requirement already satisfied: dataclasses in /home/meghal/.local/lib/python3.8/site-packages (from torch->easyocr) (0.6)\n",
      "Requirement already satisfied: typing-extensions in /home/meghal/.local/lib/python3.8/site-packages (from torch->easyocr) (4.2.0)\n",
      "Requirement already satisfied: networkx>=2.2 in /home/meghal/.local/lib/python3.8/site-packages (from scikit-image->easyocr) (2.8.5)\n",
      "Requirement already satisfied: tifffile>=2019.7.26 in /home/meghal/.local/lib/python3.8/site-packages (from scikit-image->easyocr) (2022.8.12)\n",
      "Requirement already satisfied: PyWavelets>=1.1.1 in /home/meghal/.local/lib/python3.8/site-packages (from scikit-image->easyocr) (1.3.0)\n",
      "Requirement already satisfied: packaging>=20.0 in /home/meghal/.local/lib/python3.8/site-packages (from scikit-image->easyocr) (21.3)\n",
      "Requirement already satisfied: imageio>=2.4.1 in /home/meghal/.local/lib/python3.8/site-packages (from scikit-image->easyocr) (2.21.1)\n",
      "Requirement already satisfied: six in /home/meghal/.local/lib/python3.8/site-packages (from python-bidi->easyocr) (1.12.0)\n",
      "Requirement already satisfied: pyparsing!=3.0.5,>=2.0.2 in /home/meghal/.local/lib/python3.8/site-packages (from packaging>=20.0->scikit-image->easyocr) (3.0.8)\n",
      "Requirement already satisfied: opencv-python==4.5.4.60 in /home/meghal/.local/lib/python3.8/site-packages (4.5.4.60)\n",
      "Requirement already satisfied: numpy>=1.17.3 in /home/meghal/.local/lib/python3.8/site-packages (from opencv-python==4.5.4.60) (1.22.3)\n",
      "Requirement already satisfied: opencv-contrib-python in /home/meghal/.local/lib/python3.8/site-packages (4.5.5.64)\n",
      "Requirement already satisfied: numpy>=1.17.3; python_version >= \"3.8\" in /home/meghal/.local/lib/python3.8/site-packages (from opencv-contrib-python) (1.22.3)\n"
     ]
    }
   ],
   "source": [
    "! pip install easyocr\n",
    "! pip install opencv-python==4.5.4.60\n",
    "! pip install opencv-contrib-python"
   ]
  },
  {
   "cell_type": "code",
   "execution_count": 193,
   "metadata": {},
   "outputs": [],
   "source": [
    "import easyocr\n",
    "import numpy as np\n",
    "import pandas as pd\n",
    "import cv2 as cv"
   ]
  },
  {
   "cell_type": "code",
   "execution_count": 194,
   "metadata": {},
   "outputs": [],
   "source": [
    "image = cv.imread(\"/home/meghal/Personal/Personal Data/Dropbox Documents/Old Data Science Projects/Text Extraction Using EasyOCR/Images/lazydogs.jpg\")"
   ]
  },
  {
   "cell_type": "code",
   "execution_count": 195,
   "metadata": {},
   "outputs": [
    {
     "name": "stderr",
     "output_type": "stream",
     "text": [
      "Using CPU. Note: This module is much faster with a GPU.\n"
     ]
    },
    {
     "data": {
      "text/plain": [
       "[([[19, 0], [897, 0], [897, 120], [19, 120]],\n",
       "  'The quick brown fox',\n",
       "  0.8357422434214544),\n",
       " ([[11, 113], [805, 113], [805, 229], [11, 229]],\n",
       "  'jumped over the 5',\n",
       "  0.8991958922457154),\n",
       " ([[13, 219], [469, 219], [469, 334], [13, 334]],\n",
       "  'lazy dogs!',\n",
       "  0.9368059142620957)]"
      ]
     },
     "execution_count": 195,
     "metadata": {},
     "output_type": "execute_result"
    }
   ],
   "source": [
    "lang = easyocr.Reader(['en'],gpu=False)\n",
    "result = lang.readtext(image)\n",
    "result"
   ]
  },
  {
   "cell_type": "code",
   "execution_count": 196,
   "metadata": {},
   "outputs": [],
   "source": [
    "# def bbox(box):\n",
    "#     topleft = box[0][0][0]\n",
    "#     bottomright = box[0][0][2]\n",
    "#     text = box[0][1]\n",
    "#     font = cv.FONT_HERSHEY_SCRIPT_COMPLEX\n",
    "\n",
    "#     return topleft, bottomright, text, font\n",
    "\n",
    "# topleft, bottomright, text, font = bbox(result)\n"
   ]
  },
  {
   "cell_type": "code",
   "execution_count": 197,
   "metadata": {},
   "outputs": [
    {
     "data": {
      "text/plain": [
       "True"
      ]
     },
     "execution_count": 197,
     "metadata": {},
     "output_type": "execute_result"
    }
   ],
   "source": [
    "spacer = 100\n",
    "for detection in result:\n",
    "    top_left = tuple(detection[0][0])\n",
    "    bottom_right = tuple(detection[0][2])\n",
    "    text = detection[1]\n",
    "    font = cv.FONT_HERSHEY_SIMPLEX\n",
    "    image = cv.rectangle(image,(int(top_left[0]), int(top_left[1])), (int(bottom_right[0]), int(bottom_right[1])),(0,255,0),3)\n",
    "    image = cv.putText(image,text,(5,spacer), font, 0.75,(255,0,0),2,cv.LINE_AA)\n",
    "    spacer+=20\n",
    "cv.imwrite(\"Image.jpg\",image)"
   ]
  }
 ],
 "metadata": {
  "kernelspec": {
   "display_name": "Python 3.8.10 64-bit",
   "language": "python",
   "name": "python3"
  },
  "language_info": {
   "codemirror_mode": {
    "name": "ipython",
    "version": 3
   },
   "file_extension": ".py",
   "mimetype": "text/x-python",
   "name": "python",
   "nbconvert_exporter": "python",
   "pygments_lexer": "ipython3",
   "version": "3.8.10"
  },
  "orig_nbformat": 4,
  "vscode": {
   "interpreter": {
    "hash": "916dbcbb3f70747c44a77c7bcd40155683ae19c65e1c03b4aa3499c5328201f1"
   }
  }
 },
 "nbformat": 4,
 "nbformat_minor": 2
}
