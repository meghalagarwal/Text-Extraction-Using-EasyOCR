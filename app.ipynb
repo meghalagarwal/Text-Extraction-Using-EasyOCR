{
 "cells": [
  {
   "cell_type": "code",
   "execution_count": 1,
   "metadata": {},
   "outputs": [
    {
     "name": "stdout",
     "output_type": "stream",
     "text": [
      "Collecting easyocr\n",
      "  Downloading easyocr-1.5.0-py3-none-any.whl (70.8 MB)\n",
      "\u001b[K     |████████████████████████████████| 70.8 MB 18.5 MB/s eta 0:00:01\n",
      "\u001b[?25hCollecting opencv-python-headless<=4.5.4.60\n",
      "  Downloading opencv_python_headless-4.5.4.60-cp38-cp38-manylinux_2_17_x86_64.manylinux2014_x86_64.whl (47.6 MB)\n",
      "\u001b[K     |████████████████████████████████| 47.6 MB 21.2 MB/s eta 0:00:01     |█████████████████████████       | 37.2 MB 21.2 MB/s eta 0:00:01\n",
      "\u001b[?25hRequirement already satisfied: PyYAML in /usr/lib/python3/dist-packages (from easyocr) (5.3.1)\n",
      "Collecting scikit-image\n",
      "  Downloading scikit_image-0.19.3-cp38-cp38-manylinux_2_17_x86_64.manylinux2014_x86_64.whl (14.0 MB)\n",
      "\u001b[K     |████████████████████████████████| 14.0 MB 43.2 MB/s eta 0:00:01\n",
      "\u001b[?25hRequirement already satisfied: torch in /home/meghal/.local/lib/python3.8/site-packages (from easyocr) (1.7.0+cpu)\n",
      "Requirement already satisfied: torchvision>=0.5 in /home/meghal/.local/lib/python3.8/site-packages (from easyocr) (0.8.1+cpu)\n",
      "Requirement already satisfied: Pillow in /home/meghal/.local/lib/python3.8/site-packages (from easyocr) (9.2.0)\n",
      "Requirement already satisfied: numpy in /home/meghal/.local/lib/python3.8/site-packages (from easyocr) (1.22.3)\n",
      "Collecting python-bidi\n",
      "  Downloading python_bidi-0.4.2-py2.py3-none-any.whl (30 kB)\n",
      "Requirement already satisfied: scipy in /home/meghal/.local/lib/python3.8/site-packages (from easyocr) (1.8.0)\n",
      "Collecting PyWavelets>=1.1.1\n",
      "  Downloading PyWavelets-1.3.0-cp38-cp38-manylinux_2_17_x86_64.manylinux2014_x86_64.whl (6.9 MB)\n",
      "\u001b[K     |████████████████████████████████| 6.9 MB 42.8 MB/s eta 0:00:01\n",
      "\u001b[?25hCollecting tifffile>=2019.7.26\n",
      "  Downloading tifffile-2022.8.12-py3-none-any.whl (208 kB)\n",
      "\u001b[K     |████████████████████████████████| 208 kB 35.0 MB/s eta 0:00:01\n",
      "\u001b[?25hRequirement already satisfied: packaging>=20.0 in /home/meghal/.local/lib/python3.8/site-packages (from scikit-image->easyocr) (21.3)\n",
      "Collecting imageio>=2.4.1\n",
      "  Downloading imageio-2.21.1-py3-none-any.whl (3.4 MB)\n",
      "\u001b[K     |████████████████████████████████| 3.4 MB 2.7 MB/s eta 0:00:01\n",
      "\u001b[?25hCollecting networkx>=2.2\n",
      "  Downloading networkx-2.8.5-py3-none-any.whl (2.0 MB)\n",
      "\u001b[K     |████████████████████████████████| 2.0 MB 22.3 MB/s eta 0:00:01\n",
      "\u001b[?25hRequirement already satisfied: future in /usr/lib/python3/dist-packages (from torch->easyocr) (0.18.2)\n",
      "Requirement already satisfied: dataclasses in /home/meghal/.local/lib/python3.8/site-packages (from torch->easyocr) (0.6)\n",
      "Requirement already satisfied: typing-extensions in /home/meghal/.local/lib/python3.8/site-packages (from torch->easyocr) (4.2.0)\n",
      "Requirement already satisfied: six in /home/meghal/.local/lib/python3.8/site-packages (from python-bidi->easyocr) (1.12.0)\n",
      "Requirement already satisfied: pyparsing!=3.0.5,>=2.0.2 in /home/meghal/.local/lib/python3.8/site-packages (from packaging>=20.0->scikit-image->easyocr) (3.0.8)\n",
      "Installing collected packages: opencv-python-headless, PyWavelets, tifffile, imageio, networkx, scikit-image, python-bidi, easyocr\n",
      "Successfully installed PyWavelets-1.3.0 easyocr-1.5.0 imageio-2.21.1 networkx-2.8.5 opencv-python-headless-4.5.4.60 python-bidi-0.4.2 scikit-image-0.19.3 tifffile-2022.8.12\n"
     ]
    }
   ],
   "source": [
    "! pip install easyocr"
   ]
  },
  {
   "cell_type": "code",
   "execution_count": 3,
   "metadata": {},
   "outputs": [],
   "source": [
    "import easyocr\n",
    "import numpy as np\n",
    "import pandas as pd\n",
    "import cv2 as cv"
   ]
  },
  {
   "cell_type": "code",
   "execution_count": 4,
   "metadata": {},
   "outputs": [],
   "source": [
    "image = cv.imread(\"/home/meghal/Personal/Personal Data/Dropbox Documents/Old Data Science Projects/Text Extraction Using EasyOCR/Images/park.png\")"
   ]
  },
  {
   "cell_type": "code",
   "execution_count": 5,
   "metadata": {},
   "outputs": [
    {
     "data": {
      "text/plain": [
       "array([[[ 87, 147,  77],\n",
       "        [ 88, 148,  78],\n",
       "        [ 90, 152,  82],\n",
       "        ...,\n",
       "        [ 39,  95,  30],\n",
       "        [ 50, 108,  43],\n",
       "        [ 52, 114,  48]],\n",
       "\n",
       "       [[ 94, 154,  84],\n",
       "        [ 94, 154,  84],\n",
       "        [ 93, 155,  85],\n",
       "        ...,\n",
       "        [ 41,  97,  32],\n",
       "        [ 52, 110,  45],\n",
       "        [ 57, 118,  52]],\n",
       "\n",
       "       [[100, 160,  90],\n",
       "        [ 99, 159,  89],\n",
       "        [ 96, 158,  88],\n",
       "        ...,\n",
       "        [ 45, 101,  36],\n",
       "        [ 57, 115,  50],\n",
       "        [ 62, 123,  57]],\n",
       "\n",
       "       ...,\n",
       "\n",
       "       [[ 65, 159,  70],\n",
       "        [ 74, 168,  81],\n",
       "        [ 83, 174,  88],\n",
       "        ...,\n",
       "        [ 58, 110,  63],\n",
       "        [ 33,  85,  38],\n",
       "        [  9,  58,  14]],\n",
       "\n",
       "       [[ 67, 163,  73],\n",
       "        [ 76, 171,  84],\n",
       "        [ 80, 175,  88],\n",
       "        ...,\n",
       "        [ 39,  91,  44],\n",
       "        [ 26,  75,  31],\n",
       "        [ 17,  66,  22]],\n",
       "\n",
       "       [[ 66, 164,  74],\n",
       "        [ 77, 173,  83],\n",
       "        [ 79, 174,  87],\n",
       "        ...,\n",
       "        [ 41,  90,  46],\n",
       "        [ 29,  78,  34],\n",
       "        [ 27,  76,  32]]], dtype=uint8)"
      ]
     },
     "execution_count": 5,
     "metadata": {},
     "output_type": "execute_result"
    }
   ],
   "source": [
    "lang = easyocr.Reader('en')\n"
   ]
  },
  {
   "cell_type": "code",
   "execution_count": null,
   "metadata": {},
   "outputs": [],
   "source": []
  }
 ],
 "metadata": {
  "kernelspec": {
   "display_name": "Python 3.8.10 64-bit",
   "language": "python",
   "name": "python3"
  },
  "language_info": {
   "codemirror_mode": {
    "name": "ipython",
    "version": 3
   },
   "file_extension": ".py",
   "mimetype": "text/x-python",
   "name": "python",
   "nbconvert_exporter": "python",
   "pygments_lexer": "ipython3",
   "version": "3.8.10"
  },
  "orig_nbformat": 4,
  "vscode": {
   "interpreter": {
    "hash": "916dbcbb3f70747c44a77c7bcd40155683ae19c65e1c03b4aa3499c5328201f1"
   }
  }
 },
 "nbformat": 4,
 "nbformat_minor": 2
}
